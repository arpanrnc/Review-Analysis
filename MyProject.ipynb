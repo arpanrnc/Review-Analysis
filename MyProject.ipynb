{
 "cells": [
  {
   "cell_type": "markdown",
   "metadata": {},
   "source": [
    "# Mining Mobile Phone Reviews"
   ]
  },
  {
   "cell_type": "markdown",
   "metadata": {},
   "source": [
    "## Step 1 : Defining Required Imports"
   ]
  },
  {
   "cell_type": "code",
   "execution_count": 1,
   "metadata": {
    "collapsed": true,
    "nbpresent": {
     "id": "8acb989c-937b-4089-95e4-e2d6fffd1e1b"
    }
   },
   "outputs": [],
   "source": [
    "import re\n",
    "import nltk\n",
    "from nltk.corpus import brown\n",
    "import pandas as pd\n",
    "\n",
    "from sklearn.ensemble import RandomForestClassifier\n",
    "from sklearn.feature_extraction.text import TfidfVectorizer\n",
    "\n",
    "from sklearn.cross_validation import train_test_split\n",
    "\n",
    "from collections import Counter\n",
    "\n",
    "pstemmer = nltk.PorterStemmer()\n",
    "\n",
    "%matplotlib inline\n",
    "import matplotlib.pyplot as plt\n",
    "\n",
    "from IPython.display import display"
   ]
  },
  {
   "cell_type": "markdown",
   "metadata": {},
   "source": [
    "## Step 2 : Reading reviews from File"
   ]
  },
  {
   "cell_type": "code",
   "execution_count": 2,
   "metadata": {
    "collapsed": false,
    "nbpresent": {
     "id": "0397acc8-d979-4dfe-8e95-cc053eb61fcd"
    }
   },
   "outputs": [
    {
     "name": "stdout",
     "output_type": "stream",
     "text": [
      "1|I was very excited when i received the two phones. Fast shipping and everything, however after about two months of using the phones white lines appeared on the screen of both phones which then cost me additional money to replace the screens. Very disappointed since i selected new phones and not used ones for the purpose of avoiding additional cost.|on November 12, 2015|2.0 out of 5 stars\n",
      "\n",
      "\n",
      "2|The phone I purchased was suppose to be unlocked but it was not. There was a small crack on the screen that was not shown on the picture of the phone. The charger they gave me only lasted for 2 weeks and the worst part was the battery life of the phone. I can only last about 2 hours when the phone is fully charged. Iv'e had an I Phone before purchasing one from them and it would last me the whole day. I recommend you don't buy a phone from this company, or an I Phone at least.|on November 10, 2015|1.0 out of 5 stars\n",
      "\n",
      "\n",
      "3|It wasn't what I was expected I ordered a new unlocked phone and there was a used SIM card in that|on November 9, 2015|1.0 out of 5 stars\n",
      "\n",
      "\n",
      "4|The battery is not working well.|on November 9, 2015|3.0 out of 5 stars\n",
      "\n",
      "\n",
      "5|Awful. After less than six months the screen is not working. It not original I guess.|on November 8, 2015|1.0 out of 5 stars\n",
      "\n",
      "\n"
     ]
    }
   ],
   "source": [
    "with open('dev_review_data.txt')as f:\n",
    "    data=f.read().split('\\n')\n",
    "    \n",
    "for i in range(5):\n",
    "    print(data[i])\n",
    "    print(\"\\n\")"
   ]
  },
  {
   "cell_type": "markdown",
   "metadata": {},
   "source": [
    "### Step 2.1 : Split Review by '|'"
   ]
  },
  {
   "cell_type": "code",
   "execution_count": 3,
   "metadata": {
    "collapsed": false,
    "nbpresent": {
     "id": "e4c0a981-904a-4c38-a0f5-38cf717cf84f"
    }
   },
   "outputs": [
    {
     "data": {
      "text/plain": [
       "'Not uplook, but other fine. Not not not, recommend, the products because the software dont are uplook in my country'"
      ]
     },
     "execution_count": 3,
     "metadata": {},
     "output_type": "execute_result"
    }
   ],
   "source": [
    " dictionaryOfData = {}\n",
    " for each_review in data:\n",
    "        temp = each_review.split('|')\n",
    "        if len(temp) > 1:\n",
    "            dictionaryOfData[temp[0]] = str(temp[1])\n",
    "            \n",
    "dictionaryOfData['1187']"
   ]
  },
  {
   "cell_type": "markdown",
   "metadata": {},
   "source": [
    "### Step 2.2 : Normalizing Data"
   ]
  },
  {
   "cell_type": "code",
   "execution_count": 4,
   "metadata": {
    "collapsed": false,
    "nbpresent": {
     "id": "a868a6ce-3894-46d8-b53a-008f4087cec0"
    }
   },
   "outputs": [
    {
     "data": {
      "text/plain": [
       "['not uplook',\n",
       " 'but other fine',\n",
       " 'not not not',\n",
       " 'recommend',\n",
       " 'the products because the software dont are uplook in my country']"
      ]
     },
     "execution_count": 4,
     "metadata": {},
     "output_type": "execute_result"
    }
   ],
   "source": [
    "normalizedData = {}\n",
    "keys = dictionaryOfData.keys()\n",
    "\n",
    "for key in keys:\n",
    "    review = dictionaryOfData[key]\n",
    "    review_as_list_of_sentences = []\n",
    "    \n",
    "    for sentence in re.split(r'[.,:;!]', review):\n",
    "        if sentence:\n",
    "            sentence = ' '.join([word.lower().strip() for word in sentence.split()])\n",
    "            review_as_list_of_sentences.append(sentence)\n",
    "            \n",
    "    normalizedData[key] = review_as_list_of_sentences\n",
    "\n",
    "normalizedData['1187']"
   ]
  },
  {
   "cell_type": "markdown",
   "metadata": {},
   "source": [
    "## Step 3 : POS Tagging"
   ]
  },
  {
   "cell_type": "code",
   "execution_count": 5,
   "metadata": {
    "collapsed": false,
    "nbpresent": {
     "id": "e3414e96-e2e5-4a99-b335-76e7ada344bb"
    }
   },
   "outputs": [],
   "source": [
    "# Building backoff tagger for the review data, with specific added training set for 'not'\n",
    "\n",
    "def build_backoff_tagger_trigram (train_sents):\n",
    "    t0 = nltk.DefaultTagger(\"NN\")\n",
    "    t1 = nltk.UnigramTagger(train_sents, backoff = t0)\n",
    "    t2 = nltk.BigramTagger(train_sents, backoff=t1)\n",
    "    t3 = nltk.TrigramTagger(train_sents, backoff=t2)\n",
    "    return t3\n",
    "\n",
    "sample_sents = brown.tagged_sents(categories=['news', 'editorial', 'reviews'])\n",
    "\n",
    "addTrainingset = [[('The', 'AT'),  ('battery', 'NN'),  ('is', 'BEZ'),  ('not', 'RB'), ('working', 'VBG'),  ('well', 'RB'), ('.','.')],\n",
    "                  [('Fast', 'NN'),  ('shipping', 'VBG'),  ('and', 'CC'),  ('everything', 'PN'),  ('however', 'CC'),  ('after', 'IN'),  ('about', 'RB'),  ('two', 'CD'),  ('months', 'NNS'),  ('of', 'IN'),  ('using', 'VBG'),  ('the', 'AT'),  ('phones', 'NNS'), ('white', 'JJ'),  ('lines', 'NNS'),  ('appeared', 'VBD'),  ('on', 'IN'), ('it', 'IN'), ('.','.')],\n",
    "                  [('The', 'AT'),  ('battery', 'NN'),  ('is', 'BEZ'),  ('not', 'RB'), ('working', 'VBG'),  ('well', 'RB'), ('.','.')],\n",
    "                  [('After', 'IN'),  ('less', 'AP'),  ('than', 'IN'),  ('six', 'CD'),  ('months', 'NNS'),  ('the', 'AT'),  ('screen', 'NN'), ('is', 'BEZ'),  ('not', 'RB'),  ('working', 'VBG')],\n",
    "                  [('It', 'PPS'),  ('not', 'RB'),  ('original', 'JJ'),  ('I', 'PPSS'),  ('guess', 'VB')],\n",
    "                  [('It', 'PPS'),  ('not', 'RB'),  ('original', 'JJ'),  ('I', 'PPSS'),  ('guess', 'VB')],\n",
    "                  [('It', 'PPS'),  ('not', 'RB'),  ('original', 'JJ'),  ('I', 'PPSS'),  ('guess', 'VB')],\n",
    "                  [('not', 'RB')]\n",
    "]\n",
    "\n",
    "#Training the tagger\n",
    "ngram_tagger = build_backoff_tagger_trigram(sample_sents + addTrainingset + addTrainingset + addTrainingset + addTrainingset)"
   ]
  },
  {
   "cell_type": "code",
   "execution_count": 6,
   "metadata": {
    "collapsed": false,
    "nbpresent": {
     "id": "cc1d4f3a-fffd-4ecd-8d18-5d3fea6a5a67"
    }
   },
   "outputs": [
    {
     "data": {
      "text/plain": [
       "[[('not', 'RB'), ('uplook', 'NN')],\n",
       " [('but', 'CC'), ('other', 'AP'), ('fine', 'JJ')],\n",
       " [('not', 'RB'), ('not', '*'), ('not', '*')],\n",
       " [('recommend', 'VB')],\n",
       " [('the', 'AT'),\n",
       "  ('products', 'NNS'),\n",
       "  ('because', 'CS'),\n",
       "  ('the', 'AT'),\n",
       "  ('software', 'NN'),\n",
       "  ('dont', 'NN'),\n",
       "  ('are', 'BER'),\n",
       "  ('uplook', 'NN'),\n",
       "  ('in', 'IN'),\n",
       "  ('my', 'PP$'),\n",
       "  ('country', 'NN')]]"
      ]
     },
     "execution_count": 6,
     "metadata": {},
     "output_type": "execute_result"
    }
   ],
   "source": [
    "\n",
    "tagged_dictionaryData = {}\n",
    "keys = normalizedData.keys()\n",
    "\n",
    "for key in keys:\n",
    "    data = normalizedData[key]\n",
    "    \n",
    "    temp = []\n",
    "    \n",
    "    for sentence in data:\n",
    "        x = ngram_tagger.tag(nltk.word_tokenize(sentence))\n",
    "        temp.append(x)\n",
    "        \n",
    "    tagged_dictionaryData[key] = temp\n",
    "    \n",
    "tagged_dictionaryData['1187']"
   ]
  },
  {
   "cell_type": "markdown",
   "metadata": {
    "collapsed": false
   },
   "source": [
    "### Step 3.1 : Adding some force tags"
   ]
  },
  {
   "cell_type": "code",
   "execution_count": 7,
   "metadata": {
    "collapsed": false,
    "nbpresent": {
     "id": "707fce54-147d-4692-9187-5eb333b04ed4"
    }
   },
   "outputs": [
    {
     "data": {
      "text/plain": [
       "[[('not', 'RB'), ('uplook', 'NN')],\n",
       " [('but', 'CC'), ('other', 'AP'), ('fine', 'JJ')],\n",
       " [('not', 'RB'), ('not', 'RB'), ('not', 'RB')],\n",
       " [('recommend', 'VB')],\n",
       " [('the', 'AT'),\n",
       "  ('products', 'NNS'),\n",
       "  ('because', 'CS'),\n",
       "  ('the', 'AT'),\n",
       "  ('software', 'NN'),\n",
       "  ('dont', 'NN'),\n",
       "  ('are', 'BER'),\n",
       "  ('uplook', 'NN'),\n",
       "  ('in', 'IN'),\n",
       "  ('my', 'PP$'),\n",
       "  ('country', 'NN')]]"
      ]
     },
     "execution_count": 7,
     "metadata": {},
     "output_type": "execute_result"
    }
   ],
   "source": [
    "force_tags = {'not': 'RB', 'however' : 'CC', 'but' : 'CC'}\n",
    "keys = tagged_dictionaryData.keys()\n",
    "\n",
    "for key in keys:\n",
    "    review = tagged_dictionaryData[key]\n",
    "    temp_review = []\n",
    "    for sentence in review:\n",
    "        if sentence:\n",
    "            sentence = [(word, force_tags.get(word, tag)) for word, tag in sentence]\n",
    "            temp_review.append(sentence)\n",
    "            \n",
    "    tagged_dictionaryData[key] = temp_review\n",
    "    \n",
    "    \n",
    "tagged_dictionaryData['1187']"
   ]
  },
  {
   "cell_type": "markdown",
   "metadata": {},
   "source": [
    "## Step 4 : Remove StopWords"
   ]
  },
  {
   "cell_type": "code",
   "execution_count": 8,
   "metadata": {
    "collapsed": false,
    "nbpresent": {
     "id": "8c46b900-7661-4404-baf9-42af58602864"
    }
   },
   "outputs": [
    {
     "data": {
      "text/plain": [
       "['not uplook',\n",
       " 'other fine',\n",
       " 'not not not',\n",
       " 'recommend',\n",
       " 'the products because the software dont are uplook in my country']"
      ]
     },
     "execution_count": 8,
     "metadata": {},
     "output_type": "execute_result"
    }
   ],
   "source": [
    "keys = tagged_dictionaryData.keys()\n",
    "\n",
    "splitData = {}\n",
    "\n",
    "for key in keys:\n",
    "    reviewData = tagged_dictionaryData[key]\n",
    "    reviewDataList = []\n",
    "\n",
    "    for sentence in reviewData:\n",
    "        temp = []\n",
    "        for word, tag in sentence:\n",
    "            if tag != 'CC':\n",
    "                temp.append(word)\n",
    "\n",
    "            else :\n",
    "                if temp:\n",
    "                    sent = ' '.join(temp)\n",
    "                    reviewDataList.append(sent)\n",
    "                    temp = []\n",
    "\n",
    "        #Adding the final temp\n",
    "        sent = ' '.join(temp)\n",
    "        reviewDataList.append(sent)\n",
    "        splitData[key] = reviewDataList\n",
    "        \n",
    "splitData['1187']"
   ]
  },
  {
   "cell_type": "code",
   "execution_count": 9,
   "metadata": {
    "collapsed": true,
    "nbpresent": {
     "id": "f953c661-92be-4ad0-bc0c-22cb333c4dfd"
    }
   },
   "outputs": [],
   "source": [
    "features={'back': ['processor', 'button', 'camera', 'android', 'back', 'phone', 'nice', 'screen', 'device', 'home', 'time', 'light', 'first', 'smart', 'cell', 'work', 'great', 'i', 'charger', 'best', 'feature', 'case', 'protector', 'small', 'system', 'lock', 'longer', 'good'], 'battery': ['charge', 'year', 'button', 'phone', 'device', 'life', 'home', 'time', 'experience', 'battery', 'light', 'first', 'month', 'few', 'cell', 'day', 'work', 'great', 'charger', 'week', 'hour', 'lock'], 'box': ['apple', 'phone', 'original', 'model', 'product', 'great', 'box', 'button', 'glass', 'cell', 'case', 'lock', 'good'], 'button': ['display', 'button', 'camera', 'android', 'price', 'back', 'phone', 'original', 'device', 'computer', 'store', 'life', 'home', 'time', 'last', 'a', 'battery', 'apple', 'light', 'first', 'condition', 'box', 'cell', 'so', 'inch', 'way', 'deal', 'work', 'product', 'charger', 'same', 'thing', 'lock', 'good'], 'camera': ['processor', 'button', 'camera', 'android', 'back', 'phone', 'nice', 'screen', 'device', 'home', 'time', 'light', 'first', 'smart', 'cell', 'work', 'great', 'i', 'charger', 'best', 'feature', 'case', 'protector', 'small', 'system', 'lock', 'longer', 'good'], 'cell': ['processor', 'button', 'camera', 'android', 'back', 'phone', 'original', 'nice', 'device', 'life', 'home', 'battery', 'light', 'quality', 'smart', 'box', 'headphone', 'cell', 'work', 'great', 'i', 'charger', 'best', 'sound', 'lock', 'good'], 'charger': ['apple', 'phone', 'light', 'work', 'device', 'display', 'computer', 'lock', 'charger', 'button', 'camera', 'life', 'home', 'cell', 'store', 'inch', 'back', 'last', 'battery'], 'connection': ['device', 'connection', 'service', 'delivery', 'seller', 'fast', 'internet', 'system', 'hardware'], 'device': ['charge', 'display', 'button', 'camera', 'glass', 'android', 'back', 'phone', 'device', 'computer', 'screen', 'store', 'life', 'home', 'time', 'last', 'hardware', 'battery', 'brand', 'apple', 'light', 'first', 'cell', 'design', 'inch', 'hand', 'work', 'connection', 'charger', 'internet', 'system', 'protector', 'lock', 'longer'], 'display': ['light', 'model', 'screen', 'display', 'device', 'charger', 'button', 'home', 'protector', 'inch', 'lock', 'longer'], 'hardware': ['apple', 'accessory', 'device', 'connection', 'processor', 'store', 'internet', 'system', 'hardware'], 'headphone': ['phone', 'smart', 'nice', 'work', 'great', 'i', 'headphone', 'best', 'cell', 'android', 'good'], 'home': ['display', 'button', 'camera', 'price', 'back', 'phone', 'device', 'computer', 'store', 'life', 'home', 'last', 'a', 'battery', 'apple', 'light', 'condition', 'cell', 'so', 'inch', 'way', 'deal', 'work', 'product', 'charger', 'same', 'thing', 'lock', 'good'], 'light': ['perfect', 'display', 'button', 'camera', 'back', 'phone', 'device', 'computer', 'store', 'life', 'home', 'carrier', 'last', 'battery', 'order', 'apple', 'light', 'condition', 'cell', 'inch', 'way', 'work', 'great', 'charger', 'lock', 'good'], 'phone': ['bad', 'charge', 'processor', 'review', 'button', 'serial', 'camera', 'android', 'use', 'price', 'back', 'phone', 'original', 'nice', 'star', 'device', 'buy', 'life', 'home', 'time', 'last', 'a', 'experience', 'number', 'battery', 'apple', 'light', 'quality', 'smart', 'condition', 'first', 'box', 'headphone', 'service', 'cell', 'issue', 'so', 'better', 'music', 'couple', 'much', 'way', 'deal', 'work', 'one', 'product', 'great', 'i', 'charger', 'best', 'same', 'thing', 'sound', 'lock', 'feature', 'good'], 'processor': ['apple', 'phone', 'smart', 'nice', 'work', 'great', 'i', 'processor', 'manufacturer', 'best', 'store', 'cell', 'camera', 'android', 'carrier', 'back', 'hardware', 'good'], 'system': ['hardware', 'device', 'connection', 'camera', 'internet', 'design', 'system', 'small', 'back', 'feature']}"
   ]
  },
  {
   "cell_type": "markdown",
   "metadata": {},
   "source": [
    "## Step 5 : Categorizing reviews under each #feature"
   ]
  },
  {
   "cell_type": "code",
   "execution_count": 10,
   "metadata": {
    "collapsed": false,
    "nbpresent": {
     "id": "73b5cad8-efae-4b29-be7d-4dffc7cc6d58"
    }
   },
   "outputs": [
    {
     "name": "stdout",
     "output_type": "stream",
     "text": [
      "had to have battery replaced as soon as the phone arrived\n",
      "another feature that can be troublesome with the iphone 5 is that the battery can not be easily changed out for a new one when it does not hold a charge as well as it once did (\n",
      "changing the battery voids your warranty )\n",
      "phones like the galaxy s3 do allow for the capability to change out their batteries so you can have consistent battery power when you need it\n",
      "phone has many problems the battery is my main problem now not happy about it\n",
      "i thought it was the battery\n",
      "the battery was at his 50 %\n",
      "the battery is not working well\n",
      "battery lasts about a day\n",
      "had to pay another 32 dollars for a battery\n"
     ]
    }
   ],
   "source": [
    "reviews_perFeature = {}\n",
    "for review_id in splitData:\n",
    "       review_phrases = splitData[review_id]\n",
    "       for phrase in review_phrases:\n",
    "           phrase_words = phrase.split(' ')\n",
    "           set1 = set(phrase_words)\n",
    "           for term in features:\n",
    "               set2 = set([term])\n",
    "               result = set1.intersection(set2)\n",
    "               if result:\n",
    "                   if term in reviews_perFeature: \n",
    "                       reviews_perFeature[term].append(phrase)\n",
    "                   else:\n",
    "                       reviews_perFeature[term] = [phrase]\n",
    "                        \n",
    "for i in range(10):\n",
    "    print(reviews_perFeature['battery'][i])"
   ]
  },
  {
   "cell_type": "markdown",
   "metadata": {
    "collapsed": false
   },
   "source": [
    "### Step 5.1 : Converting the above to a Panda Table"
   ]
  },
  {
   "cell_type": "code",
   "execution_count": 23,
   "metadata": {
    "collapsed": false,
    "nbpresent": {
     "id": "8f35908a-87af-41b5-8f42-530a7d563079"
    }
   },
   "outputs": [
    {
     "data": {
      "text/html": [
       "<div>\n",
       "<table border=\"1\" class=\"dataframe\">\n",
       "  <thead>\n",
       "    <tr style=\"text-align: right;\">\n",
       "      <th></th>\n",
       "      <th>Text</th>\n",
       "    </tr>\n",
       "  </thead>\n",
       "  <tbody>\n",
       "    <tr>\n",
       "      <th>0</th>\n",
       "      <td>had to have battery replaced as soon as the ph...</td>\n",
       "    </tr>\n",
       "    <tr>\n",
       "      <th>1</th>\n",
       "      <td>another feature that can be troublesome with t...</td>\n",
       "    </tr>\n",
       "    <tr>\n",
       "      <th>2</th>\n",
       "      <td>changing the battery voids your warranty )</td>\n",
       "    </tr>\n",
       "    <tr>\n",
       "      <th>3</th>\n",
       "      <td>phones like the galaxy s3 do allow for the cap...</td>\n",
       "    </tr>\n",
       "    <tr>\n",
       "      <th>4</th>\n",
       "      <td>phone has many problems the battery is my main...</td>\n",
       "    </tr>\n",
       "    <tr>\n",
       "      <th>5</th>\n",
       "      <td>i thought it was the battery</td>\n",
       "    </tr>\n",
       "    <tr>\n",
       "      <th>6</th>\n",
       "      <td>the battery was at his 50 %</td>\n",
       "    </tr>\n",
       "    <tr>\n",
       "      <th>7</th>\n",
       "      <td>the battery is not working well</td>\n",
       "    </tr>\n",
       "    <tr>\n",
       "      <th>8</th>\n",
       "      <td>battery lasts about a day</td>\n",
       "    </tr>\n",
       "    <tr>\n",
       "      <th>9</th>\n",
       "      <td>had to pay another 32 dollars for a battery</td>\n",
       "    </tr>\n",
       "    <tr>\n",
       "      <th>10</th>\n",
       "      <td>i also learned that there may be an issue with...</td>\n",
       "    </tr>\n",
       "    <tr>\n",
       "      <th>11</th>\n",
       "      <td>with ample battery life</td>\n",
       "    </tr>\n",
       "    <tr>\n",
       "      <th>12</th>\n",
       "      <td>the battery issues were horrible</td>\n",
       "    </tr>\n",
       "    <tr>\n",
       "      <th>13</th>\n",
       "      <td>would loose charge from full battery to 10 % i...</td>\n",
       "    </tr>\n",
       "    <tr>\n",
       "      <th>14</th>\n",
       "      <td>the battery life is kind of iffy</td>\n",
       "    </tr>\n",
       "    <tr>\n",
       "      <th>15</th>\n",
       "      <td>the battery was bad</td>\n",
       "    </tr>\n",
       "    <tr>\n",
       "      <th>16</th>\n",
       "      <td>i had to buy another new battery in office dep...</td>\n",
       "    </tr>\n",
       "    <tr>\n",
       "      <th>17</th>\n",
       "      <td>the battery started giving out</td>\n",
       "    </tr>\n",
       "    <tr>\n",
       "      <th>18</th>\n",
       "      <td>i always ended up disabling them to conserve b...</td>\n",
       "    </tr>\n",
       "    <tr>\n",
       "      <th>19</th>\n",
       "      <td>screen is smaller than the competing phones no...</td>\n",
       "    </tr>\n",
       "    <tr>\n",
       "      <th>20</th>\n",
       "      <td>battery drained in single hours</td>\n",
       "    </tr>\n",
       "    <tr>\n",
       "      <th>21</th>\n",
       "      <td>battery is in good quality</td>\n",
       "    </tr>\n",
       "    <tr>\n",
       "      <th>22</th>\n",
       "      <td>ran out of battery very quick</td>\n",
       "    </tr>\n",
       "    <tr>\n",
       "      <th>23</th>\n",
       "      <td>battery would not charge so i had to return it</td>\n",
       "    </tr>\n",
       "    <tr>\n",
       "      <th>24</th>\n",
       "      <td>the battery runs super fast when i turn on my ...</td>\n",
       "    </tr>\n",
       "    <tr>\n",
       "      <th>25</th>\n",
       "      <td>the battery failed</td>\n",
       "    </tr>\n",
       "    <tr>\n",
       "      <th>26</th>\n",
       "      <td>the battery life is terrible</td>\n",
       "    </tr>\n",
       "    <tr>\n",
       "      <th>27</th>\n",
       "      <td>the worst battery life in the world</td>\n",
       "    </tr>\n",
       "    <tr>\n",
       "      <th>28</th>\n",
       "      <td>out of box the battery is bad</td>\n",
       "    </tr>\n",
       "    <tr>\n",
       "      <th>29</th>\n",
       "      <td>i think i 'm not the only one who finds this p...</td>\n",
       "    </tr>\n",
       "    <tr>\n",
       "      <th>...</th>\n",
       "      <td>...</td>\n",
       "    </tr>\n",
       "    <tr>\n",
       "      <th>184</th>\n",
       "      <td>even has changed battery</td>\n",
       "    </tr>\n",
       "    <tr>\n",
       "      <th>185</th>\n",
       "      <td>the battery life is good</td>\n",
       "    </tr>\n",
       "    <tr>\n",
       "      <th>186</th>\n",
       "      <td>everything is good only the battery is a littl...</td>\n",
       "    </tr>\n",
       "    <tr>\n",
       "      <th>187</th>\n",
       "      <td>thought battery might have fully drained</td>\n",
       "    </tr>\n",
       "    <tr>\n",
       "      <th>188</th>\n",
       "      <td>the battery would not hold the charge</td>\n",
       "    </tr>\n",
       "    <tr>\n",
       "      <th>189</th>\n",
       "      <td>the battery live really sucks</td>\n",
       "    </tr>\n",
       "    <tr>\n",
       "      <th>190</th>\n",
       "      <td>the claims that apple had made about the batte...</td>\n",
       "    </tr>\n",
       "    <tr>\n",
       "      <th>191</th>\n",
       "      <td>if it comes at the expense of battery life</td>\n",
       "    </tr>\n",
       "    <tr>\n",
       "      <th>192</th>\n",
       "      <td>the battery life on botha phones is very poor</td>\n",
       "    </tr>\n",
       "    <tr>\n",
       "      <th>193</th>\n",
       "      <td>the battery failed</td>\n",
       "    </tr>\n",
       "    <tr>\n",
       "      <th>194</th>\n",
       "      <td>i have spent the last 2 hours on the phone wit...</td>\n",
       "    </tr>\n",
       "    <tr>\n",
       "      <th>195</th>\n",
       "      <td>i do not now what idiot designed a phone that ...</td>\n",
       "    </tr>\n",
       "    <tr>\n",
       "      <th>196</th>\n",
       "      <td>low battery life</td>\n",
       "    </tr>\n",
       "    <tr>\n",
       "      <th>197</th>\n",
       "      <td>i 've never had a problems with the battery</td>\n",
       "    </tr>\n",
       "    <tr>\n",
       "      <th>198</th>\n",
       "      <td>a genuine samsung battery cover made of thin p...</td>\n",
       "    </tr>\n",
       "    <tr>\n",
       "      <th>199</th>\n",
       "      <td>battery life no better than 4s</td>\n",
       "    </tr>\n",
       "    <tr>\n",
       "      <th>200</th>\n",
       "      <td>battery life is acceptable</td>\n",
       "    </tr>\n",
       "    <tr>\n",
       "      <th>201</th>\n",
       "      <td>battery is outstanding on iphone5</td>\n",
       "    </tr>\n",
       "    <tr>\n",
       "      <th>202</th>\n",
       "      <td>battery is still strong</td>\n",
       "    </tr>\n",
       "    <tr>\n",
       "      <th>203</th>\n",
       "      <td>it does n't hold battery charge like should</td>\n",
       "    </tr>\n",
       "    <tr>\n",
       "      <th>204</th>\n",
       "      <td>the battery life is amazing</td>\n",
       "    </tr>\n",
       "    <tr>\n",
       "      <th>205</th>\n",
       "      <td>had 1 problem with the battery</td>\n",
       "    </tr>\n",
       "    <tr>\n",
       "      <th>206</th>\n",
       "      <td>the battery does n't hold the charge</td>\n",
       "    </tr>\n",
       "    <tr>\n",
       "      <th>207</th>\n",
       "      <td>i was very disappointed when i found out that ...</td>\n",
       "    </tr>\n",
       "    <tr>\n",
       "      <th>208</th>\n",
       "      <td>the battery would last any longer than 12 hour...</td>\n",
       "    </tr>\n",
       "    <tr>\n",
       "      <th>209</th>\n",
       "      <td>better battery unless you use lte i played on ...</td>\n",
       "    </tr>\n",
       "    <tr>\n",
       "      <th>210</th>\n",
       "      <td>battery life</td>\n",
       "    </tr>\n",
       "    <tr>\n",
       "      <th>211</th>\n",
       "      <td>slightly better battery life</td>\n",
       "    </tr>\n",
       "    <tr>\n",
       "      <th>212</th>\n",
       "      <td>it does save battery life</td>\n",
       "    </tr>\n",
       "    <tr>\n",
       "      <th>213</th>\n",
       "      <td>the battery did n't work</td>\n",
       "    </tr>\n",
       "  </tbody>\n",
       "</table>\n",
       "<p>214 rows × 1 columns</p>\n",
       "</div>"
      ],
      "text/plain": [
       "                                                  Text\n",
       "0    had to have battery replaced as soon as the ph...\n",
       "1    another feature that can be troublesome with t...\n",
       "2           changing the battery voids your warranty )\n",
       "3    phones like the galaxy s3 do allow for the cap...\n",
       "4    phone has many problems the battery is my main...\n",
       "5                         i thought it was the battery\n",
       "6                          the battery was at his 50 %\n",
       "7                      the battery is not working well\n",
       "8                            battery lasts about a day\n",
       "9          had to pay another 32 dollars for a battery\n",
       "10   i also learned that there may be an issue with...\n",
       "11                             with ample battery life\n",
       "12                    the battery issues were horrible\n",
       "13   would loose charge from full battery to 10 % i...\n",
       "14                    the battery life is kind of iffy\n",
       "15                                 the battery was bad\n",
       "16   i had to buy another new battery in office dep...\n",
       "17                      the battery started giving out\n",
       "18   i always ended up disabling them to conserve b...\n",
       "19   screen is smaller than the competing phones no...\n",
       "20                     battery drained in single hours\n",
       "21                          battery is in good quality\n",
       "22                       ran out of battery very quick\n",
       "23      battery would not charge so i had to return it\n",
       "24   the battery runs super fast when i turn on my ...\n",
       "25                                  the battery failed\n",
       "26                        the battery life is terrible\n",
       "27                 the worst battery life in the world\n",
       "28                       out of box the battery is bad\n",
       "29   i think i 'm not the only one who finds this p...\n",
       "..                                                 ...\n",
       "184                           even has changed battery\n",
       "185                           the battery life is good\n",
       "186  everything is good only the battery is a littl...\n",
       "187           thought battery might have fully drained\n",
       "188              the battery would not hold the charge\n",
       "189                      the battery live really sucks\n",
       "190  the claims that apple had made about the batte...\n",
       "191         if it comes at the expense of battery life\n",
       "192      the battery life on botha phones is very poor\n",
       "193                                 the battery failed\n",
       "194  i have spent the last 2 hours on the phone wit...\n",
       "195  i do not now what idiot designed a phone that ...\n",
       "196                                   low battery life\n",
       "197        i 've never had a problems with the battery\n",
       "198  a genuine samsung battery cover made of thin p...\n",
       "199                     battery life no better than 4s\n",
       "200                         battery life is acceptable\n",
       "201                  battery is outstanding on iphone5\n",
       "202                            battery is still strong\n",
       "203        it does n't hold battery charge like should\n",
       "204                        the battery life is amazing\n",
       "205                     had 1 problem with the battery\n",
       "206               the battery does n't hold the charge\n",
       "207  i was very disappointed when i found out that ...\n",
       "208  the battery would last any longer than 12 hour...\n",
       "209  better battery unless you use lte i played on ...\n",
       "210                                       battery life\n",
       "211                       slightly better battery life\n",
       "212                          it does save battery life\n",
       "213                           the battery did n't work\n",
       "\n",
       "[214 rows x 1 columns]"
      ]
     },
     "execution_count": 23,
     "metadata": {},
     "output_type": "execute_result"
    }
   ],
   "source": [
    "df_dict = {}\n",
    "for aspect in reviews_perFeature:\n",
    "    tempdict= {}\n",
    "    tempdict['Text'] = reviews_perFeature[aspect]\n",
    "    temp_df = pd.DataFrame(tempdict)\n",
    "    df_dict[aspect] = temp_df\n",
    "    \n",
    "df_dict['battery']"
   ]
  },
  {
   "cell_type": "markdown",
   "metadata": {},
   "source": [
    "## Step 6 : Sentiment Analysis"
   ]
  },
  {
   "cell_type": "code",
   "execution_count": 13,
   "metadata": {
    "collapsed": false
   },
   "outputs": [],
   "source": [
    "# Fetching the labelled data and training the classifier\n",
    "train_data_file_name = 'train_data.csv'\n",
    "\n",
    "\n",
    "train_data_df = pd.read_csv(train_data_file_name, encoding = \"ISO-8859-13\")\n",
    "train_data_df.columns = [\"Text\",\"Sentiment\"]"
   ]
  },
  {
   "cell_type": "code",
   "execution_count": 14,
   "metadata": {
    "collapsed": false
   },
   "outputs": [],
   "source": [
    "# Stemming, tokenizing and vectorizing the features\n",
    "stemmer = pstemmer\n",
    "def stem_tokens(tokens, stemmer):\n",
    "    stemmed = []\n",
    "    for item in tokens:\n",
    "        stemmed.append(stemmer.stem(item))\n",
    "    return stemmed\n",
    "\n",
    "def tokenize(text):\n",
    "    # remove non letters\n",
    "    text = re.sub(\"[^a-zA-Z]\", \" \", text)\n",
    "    # tokenize\n",
    "    tokens = nltk.word_tokenize(text)\n",
    "    # stem\n",
    "    stems = stem_tokens(tokens, stemmer)\n",
    "    return stems\n",
    "\n",
    "# vectorizer = CountVectorizer(\n",
    "#     analyzer = 'word', # Assigning analyzer as word\n",
    "#     tokenizer = tokenize,\n",
    "#     lowercase = True, # Lowercasing the words\n",
    "#     stop_words = 'english', # For removing stop words from being considered as features\n",
    "#     ngram_range = (1,3), # Allowing unigrams, bigrams, and trigrams to be considered as features\n",
    "#     max_features = 50 # Using the top 1000 features\n",
    "# )\n",
    "\n",
    "vectorizer = TfidfVectorizer(\n",
    "    analyzer = 'word',\n",
    "    min_df=1,\n",
    "    tokenizer = tokenize,\n",
    "    lowercase = True,\n",
    "    stop_words = 'english',\n",
    "    ngram_range = (1,3),\n",
    "    max_features = 1000\n",
    ")"
   ]
  },
  {
   "cell_type": "code",
   "execution_count": 15,
   "metadata": {
    "collapsed": true
   },
   "outputs": [],
   "source": [
    "# Extracting the features from training data\n",
    "corpus_data_features = vectorizer.fit_transform(train_data_df.Text.tolist())"
   ]
  },
  {
   "cell_type": "code",
   "execution_count": 16,
   "metadata": {
    "collapsed": true
   },
   "outputs": [],
   "source": [
    "# Feature to array\n",
    "corpus_data_features_nd = corpus_data_features.toarray()\n",
    "corpus_data_features_nd.shape\n",
    "\n",
    "# Removing features with less than 3 characters\n",
    "vocab = vectorizer.get_feature_names()\n",
    "vocab = [word.lower() for word in vocab if len(word) > 2]"
   ]
  },
  {
   "cell_type": "code",
   "execution_count": 17,
   "metadata": {
    "collapsed": false
   },
   "outputs": [],
   "source": [
    "# remember that corpus_data_features_nd contains all of our \n",
    "# original train and test data, so we need to exclude\n",
    "# the unlabeled test entries\n",
    "\n",
    "X_train, X_dev, y_train, y_dev  = train_test_split(\n",
    "        corpus_data_features_nd, \n",
    "        train_data_df.Sentiment,\n",
    "        train_size=0.99, \n",
    "        random_state=1234)"
   ]
  },
  {
   "cell_type": "code",
   "execution_count": 18,
   "metadata": {
    "collapsed": false
   },
   "outputs": [],
   "source": [
    "# Training the classifier on the whole training data available\n",
    "rf_model = RandomForestClassifier(n_estimators=1000)\n",
    "rf_model = rf_model.fit(X=corpus_data_features_nd, y=train_data_df.Sentiment)"
   ]
  },
  {
   "cell_type": "code",
   "execution_count": 19,
   "metadata": {
    "collapsed": true
   },
   "outputs": [],
   "source": [
    "# Performing predictions on the dev set\n",
    "\n",
    "predictions_dict = {}\n",
    "for feature in df_dict:\n",
    "    test_data_df = df_dict[feature]\n",
    "    corpus_data_features_test_vector = vectorizer.transform(test_data_df.Text.tolist())\n",
    "    corpus_data_features_test = corpus_data_features_test_vector.toarray()\n",
    "        \n",
    "    test_log_pred = rf_model.predict(corpus_data_features_test)\n",
    "    predictions_dict[feature] = test_log_pred"
   ]
  },
  {
   "cell_type": "code",
   "execution_count": 20,
   "metadata": {
    "collapsed": false
   },
   "outputs": [
    {
     "data": {
      "text/plain": [
       "{'back': array([ 0,  0,  0,  0, -1, -1, -1,  0, -1,  1,  0,  0,  0,  0,  0,  0, -1,\n",
       "        -1,  0,  0,  0,  1,  0,  0,  0, -1,  0, -1,  0, -1, -1, -1,  0,  0,\n",
       "         0,  0, -1,  0,  0, -1,  0, -1,  1,  0, -1,  1, -1,  1,  0,  0, -1,\n",
       "         0, -1, -1, -1,  0, -1,  0, -1, -1, -1, -1,  0, -1,  0,  1,  0,  0,\n",
       "         1, -1,  1,  1, -1,  1,  1,  0, -1,  0, -1, -1,  1, -1, -1, -1,  1,\n",
       "         0]),\n",
       " 'battery': array([-1, -1, -1, -1, -1,  0, -1, -1, -1, -1, -1,  1, -1, -1,  1, -1, -1,\n",
       "        -1,  0, -1, -1,  1, -1, -1, -1, -1, -1, -1, -1, -1,  0,  0,  0,  1,\n",
       "        -1, -1, -1, -1, -1, -1,  1, -1, -1, -1,  1, -1, -1, -1,  1, -1, -1,\n",
       "        -1, -1, -1,  1, -1, -1, -1, -1, -1, -1, -1, -1, -1, -1, -1, -1,  0,\n",
       "        -1, -1, -1, -1, -1, -1, -1, -1,  1, -1, -1, -1, -1, -1, -1, -1, -1,\n",
       "        -1, -1,  0, -1, -1, -1, -1, -1, -1, -1,  0, -1, -1, -1, -1, -1, -1,\n",
       "        -1, -1, -1, -1,  0, -1, -1, -1, -1, -1, -1, -1, -1,  1,  1, -1, -1,\n",
       "        -1, -1, -1, -1, -1, -1, -1,  0, -1, -1, -1, -1, -1, -1, -1, -1, -1,\n",
       "        -1, -1, -1, -1, -1, -1, -1, -1, -1, -1,  1, -1, -1, -1, -1, -1,  1,\n",
       "        -1, -1,  1, -1, -1, -1, -1, -1,  1, -1, -1, -1, -1, -1, -1, -1, -1,\n",
       "        -1, -1, -1, -1,  1, -1, -1, -1, -1, -1,  1, -1, -1, -1, -1,  1, -1,\n",
       "         0, -1, -1,  1, -1, -1, -1, -1, -1, -1,  1, -1,  1, -1, -1, -1, -1,\n",
       "         1, -1, -1, -1, -1, -1,  1,  1,  1, -1]),\n",
       " 'box': array([ 1,  1, -1,  0,  0,  0,  1,  0, -1,  0,  1,  1,  0,  1,  0, -1,  0,\n",
       "         0,  0,  0, -1,  1,  1,  1,  0,  0,  1, -1, -1,  0,  1, -1,  1, -1,\n",
       "        -1,  0,  0,  0, -1,  1, -1,  0,  0, -1,  0,  1,  1, -1,  0, -1, -1,\n",
       "         0,  0, -1, -1,  0,  1, -1,  0,  0, -1, -1,  0,  0, -1,  1]),\n",
       " 'button': array([ 1,  1,  0,  1,  1, -1, -1,  0, -1, -1, -1, -1, -1,  1, -1, -1, -1,\n",
       "        -1, -1, -1, -1, -1, -1, -1, -1, -1, -1, -1, -1,  1]),\n",
       " 'camera': array([ 1,  0,  1,  1, -1,  1,  0,  0,  1,  1,  0, -1,  0,  1, -1,  1, -1,\n",
       "         1,  1,  0,  1,  1,  1, -1, -1,  1,  0, -1,  1, -1,  0,  1, -1,  0,\n",
       "         1,  1,  1, -1, -1, -1, -1,  1,  1,  1,  1, -1, -1, -1, -1,  1, -1,\n",
       "         0,  1,  0,  0, -1,  1,  0,  1,  1]),\n",
       " 'cell': array([ 1,  1,  0,  0,  1,  0, -1, -1,  0,  0,  0,  1,  0,  1,  1,  0, -1,\n",
       "         0,  1,  0, -1]),\n",
       " 'charger': array([-1, -1, -1, -1, -1,  0, -1, -1, -1,  0, -1,  0, -1, -1, -1, -1, -1,\n",
       "        -1, -1,  0, -1, -1,  0,  0,  0,  0, -1, -1,  0, -1, -1,  0,  0, -1,\n",
       "         0, -1, -1, -1,  0, -1,  0, -1,  0, -1, -1, -1, -1, -1, -1, -1, -1,\n",
       "        -1, -1,  0,  0, -1,  0, -1, -1,  0,  0, -1, -1,  1, -1,  1, -1, -1,\n",
       "        -1, -1, -1,  0,  1, -1, -1,  0, -1,  0,  1, -1, -1, -1,  0, -1, -1,\n",
       "        -1,  0,  0,  0, -1]),\n",
       " 'connection': array([-1, -1, -1, -1, -1,  1, -1,  1,  1,  1,  1, -1,  0, -1]),\n",
       " 'device': array([ 0,  1,  1,  1,  1,  1,  1, -1,  1, -1,  1,  0, -1,  1,  1,  0,  0,\n",
       "         1, -1, -1,  0,  0,  1,  1,  0,  1, -1,  0,  1,  0,  0,  0,  0, -1,\n",
       "         0,  1,  0,  1,  1, -1,  1,  1,  0,  0]),\n",
       " 'display': array([-1,  1,  1, -1, -1,  0,  1,  0,  0,  0,  1,  1,  1,  0,  0, -1,  0,\n",
       "         0]),\n",
       " 'hardware': array([ 0,  0,  0,  0, -1,  0,  1,  1,  0,  1,  0, -1,  0, -1,  1,  1, -1,\n",
       "        -1,  1,  0,  0,  1,  0,  1,  1,  1,  0]),\n",
       " 'headphone': array([ 1, -1, -1]),\n",
       " 'home': array([ 1,  1,  1,  0,  0,  0,  0,  0,  1,  0,  0, -1, -1, -1, -1,  0, -1,\n",
       "         1, -1,  0,  0,  0]),\n",
       " 'light': array([ 1,  1,  1, -1,  1, -1,  1,  1,  1,  1, -1,  1,  1,  1, -1,  1,  1,\n",
       "         1,  1,  1]),\n",
       " 'phone': array([1, 1, 1, ..., 0, 1, 0]),\n",
       " 'processor': array([ 1,  1, -1,  1,  1,  1,  1]),\n",
       " 'system': array([ 0,  0,  1,  0, -1, -1,  0,  1, -1, -1,  0,  1,  1,  1,  1,  1,  1,\n",
       "         1,  1,  0])}"
      ]
     },
     "execution_count": 20,
     "metadata": {},
     "output_type": "execute_result"
    }
   ],
   "source": [
    "predictions_dict"
   ]
  },
  {
   "cell_type": "code",
   "execution_count": 21,
   "metadata": {
    "collapsed": true
   },
   "outputs": [],
   "source": [
    "def plot_Results(predictions_dict):\n",
    "    # Variables for Product Attributes\n",
    "    attr_list = []\n",
    "    \n",
    "    #Variables for device\n",
    "    overall_list = []\n",
    "    \n",
    "    # Defining dictionaries for storing counts for overall device sentiment\n",
    "    overall_dict = {'No Of Positive mentions' : 0, 'No Of Negative mentions' : 0}\n",
    "            \n",
    "    # Assigning index name to dictionaries for overall counts\n",
    "    overall_dict['Aspect'] = 'device'\n",
    "    \n",
    "    for aspect in predictions_dict:\n",
    "        if aspect not in ['phone', 'device', 'cell', 'smartphone', 'telephone', 'mobile']:\n",
    "\n",
    "            # Defining dictionaries for storing counts\n",
    "            attr_dict = {'No Of Positive mentions' : 0, 'No Of Neutral mentions' : 0, \n",
    "                                 'No Of Negative mentions' : 0}\n",
    "            \n",
    "            # Assigning index name\n",
    "            attr_dict['Aspect'] = aspect\n",
    "            \n",
    "            # Calculating counts of different sentiments\n",
    "            list_counter = predictions_dict[aspect]\n",
    "            count = Counter(list_counter)\n",
    "            \n",
    "            # Storing the counts in the dictionaries\n",
    "            if 1 in count:\n",
    "                attr_dict['No Of Positive mentions'] = count[1]\n",
    "                \n",
    "            if 0 in count:\n",
    "                attr_dict['No Of Neutral mentions'] = count[0] \n",
    "                \n",
    "            if -1 in count:\n",
    "                attr_dict['No Of Negative mentions'] = count[-1]\n",
    "            \n",
    "            # Appending dictionaries to lists for easier dataframe manipulation\n",
    "            attr_list.append(attr_dict)\n",
    "            \n",
    "        else :\n",
    "            # Calculating counts of different sentiments for the product\n",
    "            list_counter = predictions_dict[aspect]\n",
    "            count = Counter(list_counter)\n",
    "            \n",
    "            if 1 in count:\n",
    "                overall_dict['No Of Positive mentions'] += count[1]\n",
    "               \n",
    "            # Commenting out code for the 'maybe' sentiment\n",
    "#             if 0 in count:\n",
    "#                 overall_dict['No Of Neutral mentions'] += count[0]\n",
    "            \n",
    "            if -1 in count:\n",
    "                overall_dict['No Of Negative mentions'] += count[-1]\n",
    "    \n",
    "    # Appending dictionaries to lists for easier dataframe manipulation\n",
    "    overall_list.append(overall_dict)\n",
    "\n",
    "    # For overall product\n",
    "    df_overall = pd.DataFrame(overall_list)\n",
    "    df_overall_final= df_overall.set_index('Aspect')\n",
    "    \n",
    "    #For printing the re-call table for attributes\n",
    "    df_attr = pd.DataFrame(attr_list)\n",
    "    df_attr_final = df_attr.set_index(\"Aspect\")\n",
    "    \n",
    "    print(\"----------------------\")\n",
    "    print(\"Apsects and number of related phrases\")\n",
    "    print(\"----------------------\")\n",
    "    \n",
    "    display(df_attr_final)\n",
    "    \n",
    "    print(\"\\n----------------------\")\n",
    "    print(\"Graph of sentiments for different attributes\")\n",
    "    print(\"----------------------\")\n",
    "    df_attr_final.plot(kind='bar', color=['r','b','g'],figsize=(12, 10))\n",
    "    df_attr_final.to_csv('attr_df.csv')\n",
    "    "
   ]
  },
  {
   "cell_type": "code",
   "execution_count": 22,
   "metadata": {
    "collapsed": false
   },
   "outputs": [
    {
     "name": "stdout",
     "output_type": "stream",
     "text": [
      "----------------------\n",
      "Apsects and number of related phrases\n",
      "----------------------\n"
     ]
    },
    {
     "data": {
      "text/html": [
       "<div>\n",
       "<table border=\"1\" class=\"dataframe\">\n",
       "  <thead>\n",
       "    <tr style=\"text-align: right;\">\n",
       "      <th></th>\n",
       "      <th>No Of Negative mentions</th>\n",
       "      <th>No Of Neutral mentions</th>\n",
       "      <th>No Of Positive mentions</th>\n",
       "    </tr>\n",
       "    <tr>\n",
       "      <th>Aspect</th>\n",
       "      <th></th>\n",
       "      <th></th>\n",
       "      <th></th>\n",
       "    </tr>\n",
       "  </thead>\n",
       "  <tbody>\n",
       "    <tr>\n",
       "      <th>battery</th>\n",
       "      <td>178</td>\n",
       "      <td>11</td>\n",
       "      <td>25</td>\n",
       "    </tr>\n",
       "    <tr>\n",
       "      <th>headphone</th>\n",
       "      <td>2</td>\n",
       "      <td>0</td>\n",
       "      <td>1</td>\n",
       "    </tr>\n",
       "    <tr>\n",
       "      <th>box</th>\n",
       "      <td>21</td>\n",
       "      <td>28</td>\n",
       "      <td>17</td>\n",
       "    </tr>\n",
       "    <tr>\n",
       "      <th>back</th>\n",
       "      <td>34</td>\n",
       "      <td>39</td>\n",
       "      <td>13</td>\n",
       "    </tr>\n",
       "    <tr>\n",
       "      <th>charger</th>\n",
       "      <td>59</td>\n",
       "      <td>27</td>\n",
       "      <td>4</td>\n",
       "    </tr>\n",
       "    <tr>\n",
       "      <th>connection</th>\n",
       "      <td>8</td>\n",
       "      <td>1</td>\n",
       "      <td>5</td>\n",
       "    </tr>\n",
       "    <tr>\n",
       "      <th>button</th>\n",
       "      <td>22</td>\n",
       "      <td>2</td>\n",
       "      <td>6</td>\n",
       "    </tr>\n",
       "    <tr>\n",
       "      <th>hardware</th>\n",
       "      <td>5</td>\n",
       "      <td>12</td>\n",
       "      <td>10</td>\n",
       "    </tr>\n",
       "    <tr>\n",
       "      <th>light</th>\n",
       "      <td>4</td>\n",
       "      <td>0</td>\n",
       "      <td>16</td>\n",
       "    </tr>\n",
       "    <tr>\n",
       "      <th>display</th>\n",
       "      <td>4</td>\n",
       "      <td>8</td>\n",
       "      <td>6</td>\n",
       "    </tr>\n",
       "    <tr>\n",
       "      <th>camera</th>\n",
       "      <td>19</td>\n",
       "      <td>13</td>\n",
       "      <td>28</td>\n",
       "    </tr>\n",
       "    <tr>\n",
       "      <th>processor</th>\n",
       "      <td>1</td>\n",
       "      <td>0</td>\n",
       "      <td>6</td>\n",
       "    </tr>\n",
       "    <tr>\n",
       "      <th>system</th>\n",
       "      <td>4</td>\n",
       "      <td>6</td>\n",
       "      <td>10</td>\n",
       "    </tr>\n",
       "    <tr>\n",
       "      <th>home</th>\n",
       "      <td>6</td>\n",
       "      <td>11</td>\n",
       "      <td>5</td>\n",
       "    </tr>\n",
       "  </tbody>\n",
       "</table>\n",
       "</div>"
      ],
      "text/plain": [
       "            No Of Negative mentions  No Of Neutral mentions  \\\n",
       "Aspect                                                        \n",
       "battery                         178                      11   \n",
       "headphone                         2                       0   \n",
       "box                              21                      28   \n",
       "back                             34                      39   \n",
       "charger                          59                      27   \n",
       "connection                        8                       1   \n",
       "button                           22                       2   \n",
       "hardware                          5                      12   \n",
       "light                             4                       0   \n",
       "display                           4                       8   \n",
       "camera                           19                      13   \n",
       "processor                         1                       0   \n",
       "system                            4                       6   \n",
       "home                              6                      11   \n",
       "\n",
       "            No Of Positive mentions  \n",
       "Aspect                               \n",
       "battery                          25  \n",
       "headphone                         1  \n",
       "box                              17  \n",
       "back                             13  \n",
       "charger                           4  \n",
       "connection                        5  \n",
       "button                            6  \n",
       "hardware                         10  \n",
       "light                            16  \n",
       "display                           6  \n",
       "camera                           28  \n",
       "processor                         6  \n",
       "system                           10  \n",
       "home                              5  "
      ]
     },
     "metadata": {},
     "output_type": "display_data"
    },
    {
     "name": "stdout",
     "output_type": "stream",
     "text": [
      "\n",
      "----------------------\n",
      "Graph of sentiments for different attributes\n",
      "----------------------\n"
     ]
    },
    {
     "data": {
      "image/png": "[encoded data removed]",
      "text/plain": [
       "<matplotlib.figure.Figure at 0x7f6fe104b860>"
      ]
     },
     "metadata": {},
     "output_type": "display_data"
    }
   ],
   "source": [
    "plot_Results(predictions_dict)"
   ]
  }
 ],
 "metadata": {
  "anaconda-cloud": {},
  "kernelspec": {
   "display_name": "Python [default]",
   "language": "python",
   "name": "python3"
  },
  "language_info": {
   "codemirror_mode": {
    "name": "ipython",
    "version": 3
   },
   "file_extension": ".py",
   "mimetype": "text/x-python",
   "name": "python",
   "nbconvert_exporter": "python",
   "pygments_lexer": "ipython3",
   "version": "3.5.2"
  },
  "nbpresent": {
   "slides": {
    "3cff6c75-e9bb-4aec-b971-c08e30f32faa": {
     "id": "3cff6c75-e9bb-4aec-b971-c08e30f32faa",
     "prev": "d5b11eb2-c3f1-485c-9cd3-a141a6be1d0c",
     "regions": {
      "3d96d1e7-2f82-4279-b74e-3aca6691804f": {
       "attrs": {
        "height": 0.8,
        "width": 0.8,
        "x": 0.1,
        "y": 0.1
       },
       "content": {
        "cell": "e4c0a981-904a-4c38-a0f5-38cf717cf84f",
        "part": "whole"
       },
       "id": "3d96d1e7-2f82-4279-b74e-3aca6691804f"
      }
     }
    },
    "3d5ddbda-e218-4c36-9051-93d728a5a6ce": {
     "id": "3d5ddbda-e218-4c36-9051-93d728a5a6ce",
     "prev": "aaf36311-5afe-4d12-be7e-2bf4228d68a6",
     "regions": {
      "61a979b0-a117-41e3-a04c-cfacb14b40fb": {
       "attrs": {
        "height": 0.8,
        "width": 0.8,
        "x": 0.1,
        "y": 0.1
       },
       "content": {
        "cell": "8c46b900-7661-4404-baf9-42af58602864",
        "part": "whole"
       },
       "id": "61a979b0-a117-41e3-a04c-cfacb14b40fb"
      }
     }
    },
    "3e8a7b2b-445c-46ad-b0a3-774fc85c1453": {
     "id": "3e8a7b2b-445c-46ad-b0a3-774fc85c1453",
     "prev": "ba424922-bf1b-4ed8-b4e7-e72146571a65",
     "regions": {
      "5b11e0f4-fc6a-4663-b74b-d14bd6266fd1": {
       "attrs": {
        "height": 0.8,
        "width": 0.8,
        "x": 0.1,
        "y": 0.1
       },
       "content": {
        "cell": "8b9f443a-9b9d-4010-a397-37fce6469481",
        "part": "whole"
       },
       "id": "5b11e0f4-fc6a-4663-b74b-d14bd6266fd1"
      }
     }
    },
    "44e96f7b-b19f-4ea0-8c4c-d3d7bdd0b4a5": {
     "id": "44e96f7b-b19f-4ea0-8c4c-d3d7bdd0b4a5",
     "prev": "61b2f538-7b0b-4547-a0aa-c9ce25690055",
     "regions": {
      "7a166bdb-101a-4bb8-ba57-d32cfa48eaa2": {
       "attrs": {
        "height": 0.8,
        "width": 0.8,
        "x": 0.1,
        "y": 0.1
       },
       "content": {
        "cell": "73b5cad8-efae-4b29-be7d-4dffc7cc6d58",
        "part": "whole"
       },
       "id": "7a166bdb-101a-4bb8-ba57-d32cfa48eaa2"
      }
     }
    },
    "4ab94595-a58c-4920-befa-bc63614d19d1": {
     "id": "4ab94595-a58c-4920-befa-bc63614d19d1",
     "prev": "bb06ae93-5662-44e5-9b4c-5e3887c0f0eb",
     "regions": {
      "06072098-13b0-43de-8905-e7c2cb9c5777": {
       "attrs": {
        "height": 0.8,
        "width": 0.8,
        "x": 0.1,
        "y": 0.1
       },
       "content": {
        "cell": "0397acc8-d979-4dfe-8e95-cc053eb61fcd",
        "part": "whole"
       },
       "id": "06072098-13b0-43de-8905-e7c2cb9c5777"
      }
     }
    },
    "4acfd444-6b2f-4a26-994b-0707f9d5b7c1": {
     "id": "4acfd444-6b2f-4a26-994b-0707f9d5b7c1",
     "prev": "44e96f7b-b19f-4ea0-8c4c-d3d7bdd0b4a5",
     "regions": {
      "902d2c36-dae9-46c1-ba35-4970d71e5ab2": {
       "attrs": {
        "height": 0.8,
        "width": 0.8,
        "x": 0.1,
        "y": 0.1
       },
       "content": {
        "cell": "8f35908a-87af-41b5-8f42-530a7d563079",
        "part": "whole"
       },
       "id": "902d2c36-dae9-46c1-ba35-4970d71e5ab2"
      }
     }
    },
    "61b2f538-7b0b-4547-a0aa-c9ce25690055": {
     "id": "61b2f538-7b0b-4547-a0aa-c9ce25690055",
     "prev": "3d5ddbda-e218-4c36-9051-93d728a5a6ce",
     "regions": {
      "c607e321-e2c6-4070-8c12-a418ea097218": {
       "attrs": {
        "height": 0.8,
        "width": 0.8,
        "x": 0.1,
        "y": 0.1
       },
       "content": {
        "cell": "f953c661-92be-4ad0-bc0c-22cb333c4dfd",
        "part": "whole"
       },
       "id": "c607e321-e2c6-4070-8c12-a418ea097218"
      }
     }
    },
    "aaf36311-5afe-4d12-be7e-2bf4228d68a6": {
     "id": "aaf36311-5afe-4d12-be7e-2bf4228d68a6",
     "prev": "3e8a7b2b-445c-46ad-b0a3-774fc85c1453",
     "regions": {
      "0cef34f2-5782-4978-bd8b-21865b0d9450": {
       "attrs": {
        "height": 0.8,
        "width": 0.8,
        "x": 0.1,
        "y": 0.1
       },
       "content": {
        "cell": "707fce54-147d-4692-9187-5eb333b04ed4",
        "part": "whole"
       },
       "id": "0cef34f2-5782-4978-bd8b-21865b0d9450"
      }
     }
    },
    "ba424922-bf1b-4ed8-b4e7-e72146571a65": {
     "id": "ba424922-bf1b-4ed8-b4e7-e72146571a65",
     "prev": "ccb5de6c-e3f4-4ad9-8f24-e16b5c2b75a7",
     "regions": {
      "29530b94-f39d-4908-b214-fac5d4ff5b2c": {
       "attrs": {
        "height": 0.8,
        "width": 0.8,
        "x": 0.1,
        "y": 0.1
       },
       "content": {
        "cell": "cc1d4f3a-fffd-4ecd-8d18-5d3fea6a5a67",
        "part": "whole"
       },
       "id": "29530b94-f39d-4908-b214-fac5d4ff5b2c"
      }
     }
    },
    "bb06ae93-5662-44e5-9b4c-5e3887c0f0eb": {
     "id": "bb06ae93-5662-44e5-9b4c-5e3887c0f0eb",
     "prev": null,
     "regions": {
      "e266e5ef-5f20-4461-8937-c664ba4d3a6f": {
       "attrs": {
        "height": 0.8,
        "width": 0.8,
        "x": 0.1,
        "y": 0.1
       },
       "content": {
        "cell": "8acb989c-937b-4089-95e4-e2d6fffd1e1b",
        "part": "whole"
       },
       "id": "e266e5ef-5f20-4461-8937-c664ba4d3a6f"
      }
     }
    },
    "ccb5de6c-e3f4-4ad9-8f24-e16b5c2b75a7": {
     "id": "ccb5de6c-e3f4-4ad9-8f24-e16b5c2b75a7",
     "prev": "f9a3a98b-e99a-42e8-b60f-4402856f14ba",
     "regions": {
      "9d985520-d5a7-44e3-a961-1484f990e614": {
       "attrs": {
        "height": 0.8,
        "width": 0.8,
        "x": 0.1,
        "y": 0.1
       },
       "content": {
        "cell": "e3414e96-e2e5-4a99-b335-76e7ada344bb",
        "part": "whole"
       },
       "id": "9d985520-d5a7-44e3-a961-1484f990e614"
      }
     }
    },
    "d5b11eb2-c3f1-485c-9cd3-a141a6be1d0c": {
     "id": "d5b11eb2-c3f1-485c-9cd3-a141a6be1d0c",
     "prev": "4ab94595-a58c-4920-befa-bc63614d19d1",
     "regions": {
      "e6bfc83e-e41f-498c-a001-31d3b81fdaed": {
       "attrs": {
        "height": 0.8,
        "width": 0.8,
        "x": 0.1,
        "y": 0.1
       },
       "content": {
        "cell": "a07e5a0d-1249-4bf2-a355-435885e82f25",
        "part": "whole"
       },
       "id": "e6bfc83e-e41f-498c-a001-31d3b81fdaed"
      }
     }
    },
    "f9a3a98b-e99a-42e8-b60f-4402856f14ba": {
     "id": "f9a3a98b-e99a-42e8-b60f-4402856f14ba",
     "prev": "3cff6c75-e9bb-4aec-b971-c08e30f32faa",
     "regions": {
      "64a6cbc5-f50f-4310-ba76-d0fc5981c493": {
       "attrs": {
        "height": 0.8,
        "width": 0.8,
        "x": 0.1,
        "y": 0.1
       },
       "content": {
        "cell": "a868a6ce-3894-46d8-b53a-008f4087cec0",
        "part": "whole"
       },
       "id": "64a6cbc5-f50f-4310-ba76-d0fc5981c493"
      }
     }
    }
   },
   "themes": {}
  }
 },
 "nbformat": 4,
 "nbformat_minor": 1
}
